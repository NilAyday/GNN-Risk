{
 "cells": [
  {
   "cell_type": "code",
   "execution_count": 1,
   "metadata": {},
   "outputs": [],
   "source": [
    "from alignment.optimizations import optimize_dim_subspaces"
   ]
  },
  {
   "cell_type": "markdown",
   "metadata": {},
   "source": [
    "## Optimizing for finding $k_{X}^{*}$ and $k_{\\hat{A}}^{*}$ ##"
   ]
  },
  {
   "cell_type": "markdown",
   "metadata": {},
   "source": [
    "This code runs on the fly, i.e., we don't save the results of randomizations of matrices.<br>\n",
    "Parameters in the function `optimize_dim_subspaces`:<br>\n",
    "`num_rdm` : how many realizations of randomization for each percent we consider.<br>\n",
    "`num_k` : how many possible $k_{X}$ and $k_{\\hat{A}}$ we consider.\n",
    "\n",
    "Results give us:<br>\n",
    "i) a heatmap which indicates the difference of norm of distance matrix between no randomization and full randomization.<br>\n",
    "ii) $k_{X}^{*}$, $k_{\\hat{A}}^{*}$ and $k_{Y}^{*}$"
   ]
  },
  {
   "cell_type": "code",
   "execution_count": 2,
   "metadata": {
    "scrolled": false
   },
   "outputs": [
    {
     "name": "stdout",
     "output_type": "stream",
     "text": [
      "Loading constructive_example dataset...\n",
      "Dataset has 1000 nodes, 6541 edges, 500 features.\n",
      "Scanning round 1\n",
      "k_X_l: [10, 132, 255, 377, 500]\n",
      "k_A_l: [10, 257, 505, 752, 1000]\n"
     ]
    },
    {
     "data": {
      "image/png": "[encoded data removed]",
      "text/plain": [
       "<Figure size 576x432 with 2 Axes>"
      ]
     },
     "metadata": {
      "needs_background": "light"
     },
     "output_type": "display_data"
    },
    {
     "name": "stdout",
     "output_type": "stream",
     "text": [
      "Optimization results in scanning round 1: {'k_X': 255, 'k_A': 10, 'k_Y': 10}\n",
      "\n",
      "\n"
     ]
    },
    {
     "data": {
      "text/plain": [
       "{'k_X': 255, 'k_A': 10, 'k_Y': 10}"
      ]
     },
     "execution_count": 2,
     "metadata": {},
     "output_type": "execute_result"
    }
   ],
   "source": [
    "optimize_dim_subspaces(\n",
    "    dataset=\"constructive_example\",\n",
    "    num_rdm=2,\n",
    "    num_k=5,\n",
    "    num_scanning=1,\n",
    "    norm_type=\"Frobenius-Norm\",\n",
    "    log=False,\n",
    "    heatmap=True\n",
    ")"
   ]
  }
 ],
 "metadata": {
  "kernelspec": {
   "display_name": "Python 3",
   "language": "python",
   "name": "python3"
  },
  "language_info": {
   "codemirror_mode": {
    "name": "ipython",
    "version": 3
   },
   "file_extension": ".py",
   "mimetype": "text/x-python",
   "name": "python",
   "nbconvert_exporter": "python",
   "pygments_lexer": "ipython3",
   "version": "3.6.7"
  }
 },
 "nbformat": 4,
 "nbformat_minor": 2
}
