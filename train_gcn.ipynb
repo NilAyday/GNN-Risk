{
 "cells": [
  {
   "cell_type": "code",
   "execution_count": 1,
   "id": "0b3b70a7",
   "metadata": {},
   "outputs": [],
   "source": [
    "import time\n",
    "import random\n",
    "import argparse\n",
    "import numpy as np\n",
    "import torch\n",
    "import torch.nn.functional as F\n",
    "import torch.optim as optim\n",
    "from utils import *\n",
    "from model import *\n",
    "from process import *"
   ]
  },
  {
   "cell_type": "code",
   "execution_count": null,
   "id": "5342676d",
   "metadata": {},
   "outputs": [],
   "source": []
  },
  {
   "cell_type": "code",
   "execution_count": 2,
   "id": "e3dafa13",
   "metadata": {},
   "outputs": [
    {
     "name": "stderr",
     "output_type": "stream",
     "text": [
      "C:\\Users\\ayday\\Desktop\\Master_Thesis\\experiment\\utils.py:87: FutureWarning: adjacency_matrix will return a scipy.sparse array instead of a matrix in Networkx 3.0.\n",
      "  adj = nx.adjacency_matrix(nx.from_dict_of_lists(graph))\n"
     ]
    },
    {
     "name": "stdout",
     "output_type": "stream",
     "text": [
      "torch.Size([2708, 2708])\n",
      "torch.Size([2708, 1433])\n",
      "torch.Size([2708])\n",
      "torch.Size([140])\n",
      "torch.Size([500])\n",
      "torch.Size([1000])\n"
     ]
    }
   ],
   "source": [
    "adj, features, labels,idx_train,idx_val,idx_test = load_citation('cora')\n",
    "data='cora'\n",
    "#splitstr = 'splits/'+data+'_split_0.6_0.2_'+str(0)+'.npz'\n",
    "#adj, features, labels, idx_train, idx_val, idx_test, num_features, num_labels = full_load_data('cora',splitstr)\n",
    "print(adj.shape)\n",
    "print(features.shape)\n",
    "print(labels.shape)\n",
    "print(idx_train.shape)\n",
    "print(idx_val.shape)\n",
    "print(idx_test.shape)"
   ]
  },
  {
   "cell_type": "code",
   "execution_count": null,
   "id": "b1b9de2f",
   "metadata": {},
   "outputs": [],
   "source": []
  },
  {
   "cell_type": "code",
   "execution_count": 3,
   "id": "e2dbd5aa",
   "metadata": {},
   "outputs": [],
   "source": [
    "cudaid = \"cuda\"\n",
    "device = torch.device(cudaid)\n",
    "features = features.to(device)\n",
    "adj = adj.to(device).coalesce()"
   ]
  },
  {
   "cell_type": "code",
   "execution_count": 4,
   "id": "dfcb0ecd",
   "metadata": {},
   "outputs": [],
   "source": [
    "feature_size=features.shape[1]\n",
    "num_classes = len(torch.unique(labels))\n",
    "hidden_dim=16\n",
    "dropout=0.5\n",
    "model=GCN(feature_size,hidden_dim,num_classes,dropout)\n",
    "model=model.to(device)\n",
    "optimizer = optim.Adam(model.parameters(),lr=0.01,weight_decay=5e-4)\n",
    "\n",
    "epochs=100\n",
    "patience=10\n",
    "test=False"
   ]
  },
  {
   "cell_type": "code",
   "execution_count": null,
   "id": "cc74ad2d-db4d-484a-8d42-0f70e1a6bec5",
   "metadata": {},
   "outputs": [],
   "source": []
  },
  {
   "cell_type": "code",
   "execution_count": null,
   "id": "1fdf697f-0d71-47c7-a2c8-0cfcdab69a98",
   "metadata": {},
   "outputs": [],
   "source": []
  },
  {
   "cell_type": "code",
   "execution_count": null,
   "id": "b50bd930-acc7-4362-820c-e37bd0ae0054",
   "metadata": {},
   "outputs": [],
   "source": []
  },
  {
   "cell_type": "code",
   "execution_count": null,
   "id": "b3749f70-40c0-434f-b6dd-212227bc6270",
   "metadata": {},
   "outputs": [],
   "source": []
  },
  {
   "cell_type": "code",
   "execution_count": 9,
   "id": "0ef09b6d-839a-448e-82a6-8d85bf4a7fe1",
   "metadata": {},
   "outputs": [
    {
     "data": {
      "text/plain": [
       "'\\nt_total = time.time()\\nbad_counter = 0\\nbest = 999999999\\nbest_epoch = 0\\nacc = 0\\nfor epoch in range(epochs):\\n    loss_tra,acc_tra = train()\\n    loss_val,acc_val = validate()\\n    if(epoch+1)%1 == 0: \\n        print(\\'Epoch:{:04d}\\'.format(epoch+1),\\n            \\'train\\',\\n            \\'loss:{:.3f}\\'.format(loss_tra),\\n            \\'acc:{:.2f}\\'.format(acc_tra*100),\\n            \\'| val\\',\\n            \\'loss:{:.3f}\\'.format(loss_val),\\n            \\'acc:{:.2f}\\'.format(acc_val*100))\\n    if loss_val < best:\\n        best = loss_val\\n        best_epoch = epoch\\n        acc = acc_val\\n        #torch.save(model.state_dict(), checkpt_file)\\n        bad_counter = 0\\n    else:\\n        bad_counter += 1\\n\\n    if bad_counter == patience:\\n        break\\n\\nif test:\\n    acc = test()[1]\\n\\nprint(\"Train cost: {:.4f}s\".format(time.time() - t_total))\\nprint(\\'Load {}th epoch\\'.format(best_epoch))\\nprint(\"Val\",\"acc.:{:.1f}\".format(acc*100))\\n'"
      ]
     },
     "execution_count": 9,
     "metadata": {},
     "output_type": "execute_result"
    }
   ],
   "source": [
    "def train():\n",
    "    model.train()\n",
    "    optimizer.zero_grad()\n",
    "    output = model(features,adj)\n",
    "    acc_train = accuracy(output[idx_train], labels[idx_train].to(device))\n",
    "    loss_train = F.nll_loss(output[idx_train], labels[idx_train].to(device))\n",
    "    loss_train.backward()\n",
    "    optimizer.step()\n",
    "    return loss_train.item(),acc_train.item()\n",
    "\n",
    "\n",
    "def validate():\n",
    "    model.eval()\n",
    "    with torch.no_grad():\n",
    "        output = model(features,adj)\n",
    "        loss_val = F.nll_loss(output[idx_val], labels[idx_val].to(device))\n",
    "        acc_val = accuracy(output[idx_val], labels[idx_val].to(device))\n",
    "        return loss_val.item(),acc_val.item()\n",
    "\n",
    "def test():\n",
    "    #model.load_state_dict(torch.load(checkpt_file))\n",
    "    model.eval()\n",
    "    with torch.no_grad():\n",
    "        output = model(features, adj)\n",
    "        loss_test = F.nll_loss(output[idx_test], labels[idx_test].to(device))\n",
    "        acc_test = accuracy(output[idx_test], labels[idx_test].to(device))\n",
    "        return loss_test.item(),acc_test.item()\n",
    "\n",
    "'''\n",
    "t_total = time.time()\n",
    "bad_counter = 0\n",
    "best = 999999999\n",
    "best_epoch = 0\n",
    "acc = 0\n",
    "for epoch in range(epochs):\n",
    "    loss_tra,acc_tra = train()\n",
    "    loss_val,acc_val = validate()\n",
    "    if(epoch+1)%1 == 0: \n",
    "        print('Epoch:{:04d}'.format(epoch+1),\n",
    "            'train',\n",
    "            'loss:{:.3f}'.format(loss_tra),\n",
    "            'acc:{:.2f}'.format(acc_tra*100),\n",
    "            '| val',\n",
    "            'loss:{:.3f}'.format(loss_val),\n",
    "            'acc:{:.2f}'.format(acc_val*100))\n",
    "    if loss_val < best:\n",
    "        best = loss_val\n",
    "        best_epoch = epoch\n",
    "        acc = acc_val\n",
    "        #torch.save(model.state_dict(), checkpt_file)\n",
    "        bad_counter = 0\n",
    "    else:\n",
    "        bad_counter += 1\n",
    "\n",
    "    if bad_counter == patience:\n",
    "        break\n",
    "\n",
    "if test:\n",
    "    acc = test()[1]\n",
    "\n",
    "print(\"Train cost: {:.4f}s\".format(time.time() - t_total))\n",
    "print('Load {}th epoch'.format(best_epoch))\n",
    "print(\"Val\",\"acc.:{:.1f}\".format(acc*100))\n",
    "'''"
   ]
  },
  {
   "cell_type": "code",
   "execution_count": 13,
   "id": "59f005bd-f8ab-414d-aa7d-49979367005f",
   "metadata": {},
   "outputs": [
    {
     "name": "stdout",
     "output_type": "stream",
     "text": [
      "Mean validation accuracy: 81.32%\n",
      "Standard deviation of validation accuracy: 0.47%\n"
     ]
    }
   ],
   "source": [
    "epochs = 100  # Set the number of epochs\n",
    "patience = 10  # Set the patience for early stopping\n",
    "Test = True  # Flag for testing after training\n",
    "\n",
    "# Initialize lists to store accuracy for each run\n",
    "val_acc_list = []\n",
    "\n",
    "# Run the training process 10 times\n",
    "for run in range(10):\n",
    "    t_total = time.time()\n",
    "    bad_counter = 0\n",
    "    best = 999999999\n",
    "    best_epoch = 0\n",
    "    acc = 0\n",
    "    for epoch in range(epochs):\n",
    "        loss_tra, acc_tra = train()\n",
    "        loss_val, acc_val = validate()\n",
    "        if (epoch + 1) % 1 == 0:\n",
    "            '''\n",
    "            print('Run:{:02d}'.format(run+1),\n",
    "                  'Epoch:{:04d}'.format(epoch+1),\n",
    "                  'train',\n",
    "                  'loss:{:.3f}'.format(loss_tra),\n",
    "                  'acc:{:.2f}'.format(acc_tra * 100),\n",
    "                  '| val',\n",
    "                  'loss:{:.3f}'.format(loss_val),\n",
    "                  'acc:{:.2f}'.format(acc_val * 100))\n",
    "            '''\n",
    "        if loss_val < best:\n",
    "            best = loss_val\n",
    "            best_epoch = epoch\n",
    "            acc = acc_val\n",
    "            # torch.save(model.state_dict(), checkpt_file)\n",
    "            bad_counter = 0\n",
    "        else:\n",
    "            bad_counter += 1\n",
    "\n",
    "        if bad_counter == patience:\n",
    "            break\n",
    "\n",
    "  \n",
    "    acc = test()[1]\n",
    "\n",
    "    val_acc_list.append(acc)\n",
    "\n",
    "    #print(\"Train cost: {:.4f}s\".format(time.time() - t_total))\n",
    "    #print('Load {}th epoch'.format(best_epoch))\n",
    "    #print(\"Val\", \"acc.:{:.1f}\".format(acc * 100))\n",
    "\n",
    "# Calculate mean and standard deviation of validation accuracy\n",
    "val_acc_array = np.array(val_acc_list)\n",
    "mean_acc = val_acc_array.mean()\n",
    "std_acc = val_acc_array.std()\n",
    "\n",
    "print(\"Mean validation accuracy: {:.2f}%\".format(mean_acc * 100))\n",
    "print(\"Standard deviation of validation accuracy: {:.2f}%\".format(std_acc * 100))"
   ]
  },
  {
   "cell_type": "code",
   "execution_count": null,
   "id": "eadd1886-ac76-4d03-9843-8170e4760405",
   "metadata": {},
   "outputs": [],
   "source": []
  }
 ],
 "metadata": {
  "kernelspec": {
   "display_name": "Python 3 (ipykernel)",
   "language": "python",
   "name": "python3"
  },
  "language_info": {
   "codemirror_mode": {
    "name": "ipython",
    "version": 3
   },
   "file_extension": ".py",
   "mimetype": "text/x-python",
   "name": "python",
   "nbconvert_exporter": "python",
   "pygments_lexer": "ipython3",
   "version": "3.10.12"
  }
 },
 "nbformat": 4,
 "nbformat_minor": 5
}
